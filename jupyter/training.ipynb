{
 "cells": [
  {
   "cell_type": "code",
   "execution_count": 1,
   "metadata": {
    "colab": {
     "base_uri": "https://localhost:8080/",
     "height": 71
    },
    "colab_type": "code",
    "id": "37FGScXuILoj",
    "outputId": "d54bbf89-728d-40b8-b4e1-68bfe0410110"
   },
   "outputs": [],
   "source": [
    "import pandas as pd\n",
    "import matplotlib.pyplot as plt\n",
    "import numpy as np\n",
    "from sklearn.preprocessing import MinMaxScaler\n",
    "from sklearn.ensemble import RandomForestClassifier\n",
    "from sklearn.neighbors import KNeighborsClassifier\n",
    "from sklearn.svm import SVC\n",
    "from sklearn.naive_bayes import GaussianNB\n",
    "from sklearn.metrics import f1_score\n",
    "from sklearn.model_selection import train_test_split\n",
    "from sklearn.model_selection import GridSearchCV\n",
    "from sklearn.metrics import recall_score\n",
    "from sklearn.metrics import precision_score\n",
    "from sklearn.preprocessing import OneHotEncoder\n",
    "from sklearn.compose import ColumnTransformer\n",
    "from joblib import dump\n",
    "from sklearn.svm import LinearSVC"
   ]
  },
  {
   "cell_type": "code",
   "execution_count": 2,
   "metadata": {
    "colab": {},
    "colab_type": "code",
    "id": "odLLX467IPZU"
   },
   "outputs": [
    {
     "data": {
      "text/html": [
       "<div>\n",
       "<style scoped>\n",
       "    .dataframe tbody tr th:only-of-type {\n",
       "        vertical-align: middle;\n",
       "    }\n",
       "\n",
       "    .dataframe tbody tr th {\n",
       "        vertical-align: top;\n",
       "    }\n",
       "\n",
       "    .dataframe thead th {\n",
       "        text-align: right;\n",
       "    }\n",
       "</style>\n",
       "<table border=\"1\" class=\"dataframe\">\n",
       "  <thead>\n",
       "    <tr style=\"text-align: right;\">\n",
       "      <th></th>\n",
       "      <th>year</th>\n",
       "      <th>DayOfWeek</th>\n",
       "      <th>x_cartesian</th>\n",
       "      <th>y_cartesian</th>\n",
       "      <th>z_cartesian</th>\n",
       "      <th>sin_time</th>\n",
       "      <th>cos_time</th>\n",
       "      <th>is_violent</th>\n",
       "    </tr>\n",
       "  </thead>\n",
       "  <tbody>\n",
       "    <tr>\n",
       "      <td>count</td>\n",
       "      <td>2.215024e+06</td>\n",
       "      <td>2215024</td>\n",
       "      <td>2.215024e+06</td>\n",
       "      <td>2.215024e+06</td>\n",
       "      <td>2.215024e+06</td>\n",
       "      <td>2.215024e+06</td>\n",
       "      <td>2.215024e+06</td>\n",
       "      <td>2215024</td>\n",
       "    </tr>\n",
       "    <tr>\n",
       "      <td>unique</td>\n",
       "      <td>NaN</td>\n",
       "      <td>7</td>\n",
       "      <td>NaN</td>\n",
       "      <td>NaN</td>\n",
       "      <td>NaN</td>\n",
       "      <td>NaN</td>\n",
       "      <td>NaN</td>\n",
       "      <td>2</td>\n",
       "    </tr>\n",
       "    <tr>\n",
       "      <td>top</td>\n",
       "      <td>NaN</td>\n",
       "      <td>Friday</td>\n",
       "      <td>NaN</td>\n",
       "      <td>NaN</td>\n",
       "      <td>NaN</td>\n",
       "      <td>NaN</td>\n",
       "      <td>NaN</td>\n",
       "      <td>False</td>\n",
       "    </tr>\n",
       "    <tr>\n",
       "      <td>freq</td>\n",
       "      <td>NaN</td>\n",
       "      <td>337941</td>\n",
       "      <td>NaN</td>\n",
       "      <td>NaN</td>\n",
       "      <td>NaN</td>\n",
       "      <td>NaN</td>\n",
       "      <td>NaN</td>\n",
       "      <td>1112863</td>\n",
       "    </tr>\n",
       "    <tr>\n",
       "      <td>mean</td>\n",
       "      <td>2.010265e+03</td>\n",
       "      <td>NaN</td>\n",
       "      <td>-4.238136e-01</td>\n",
       "      <td>-6.672310e-01</td>\n",
       "      <td>6.124822e-01</td>\n",
       "      <td>-2.442137e-01</td>\n",
       "      <td>-6.009038e-02</td>\n",
       "      <td>NaN</td>\n",
       "    </tr>\n",
       "    <tr>\n",
       "      <td>std</td>\n",
       "      <td>4.486245e+00</td>\n",
       "      <td>NaN</td>\n",
       "      <td>3.423043e-03</td>\n",
       "      <td>5.367794e-03</td>\n",
       "      <td>3.131448e-03</td>\n",
       "      <td>6.403588e-01</td>\n",
       "      <td>7.257340e-01</td>\n",
       "      <td>NaN</td>\n",
       "    </tr>\n",
       "    <tr>\n",
       "      <td>min</td>\n",
       "      <td>2.003000e+03</td>\n",
       "      <td>NaN</td>\n",
       "      <td>-4.250327e-01</td>\n",
       "      <td>-6.681009e-01</td>\n",
       "      <td>6.116358e-01</td>\n",
       "      <td>-1.000000e+00</td>\n",
       "      <td>-1.000000e+00</td>\n",
       "      <td>NaN</td>\n",
       "    </tr>\n",
       "    <tr>\n",
       "      <td>25%</td>\n",
       "      <td>2.006000e+03</td>\n",
       "      <td>NaN</td>\n",
       "      <td>-4.239793e-01</td>\n",
       "      <td>-6.673972e-01</td>\n",
       "      <td>6.122589e-01</td>\n",
       "      <td>-8.660254e-01</td>\n",
       "      <td>-7.853169e-01</td>\n",
       "      <td>NaN</td>\n",
       "    </tr>\n",
       "    <tr>\n",
       "      <td>50%</td>\n",
       "      <td>2.010000e+03</td>\n",
       "      <td>NaN</td>\n",
       "      <td>-4.237344e-01</td>\n",
       "      <td>-6.672350e-01</td>\n",
       "      <td>6.125680e-01</td>\n",
       "      <td>-3.826834e-01</td>\n",
       "      <td>-1.478094e-01</td>\n",
       "      <td>NaN</td>\n",
       "    </tr>\n",
       "    <tr>\n",
       "      <td>75%</td>\n",
       "      <td>2.014000e+03</td>\n",
       "      <td>NaN</td>\n",
       "      <td>-4.235967e-01</td>\n",
       "      <td>-6.671199e-01</td>\n",
       "      <td>6.126930e-01</td>\n",
       "      <td>2.588190e-01</td>\n",
       "      <td>7.071068e-01</td>\n",
       "      <td>NaN</td>\n",
       "    </tr>\n",
       "    <tr>\n",
       "      <td>max</td>\n",
       "      <td>2.018000e+03</td>\n",
       "      <td>NaN</td>\n",
       "      <td>-3.107776e-17</td>\n",
       "      <td>-5.275957e-17</td>\n",
       "      <td>1.000000e+00</td>\n",
       "      <td>1.000000e+00</td>\n",
       "      <td>9.999905e-01</td>\n",
       "      <td>NaN</td>\n",
       "    </tr>\n",
       "  </tbody>\n",
       "</table>\n",
       "</div>"
      ],
      "text/plain": [
       "                year DayOfWeek   x_cartesian   y_cartesian   z_cartesian  \\\n",
       "count   2.215024e+06   2215024  2.215024e+06  2.215024e+06  2.215024e+06   \n",
       "unique           NaN         7           NaN           NaN           NaN   \n",
       "top              NaN    Friday           NaN           NaN           NaN   \n",
       "freq             NaN    337941           NaN           NaN           NaN   \n",
       "mean    2.010265e+03       NaN -4.238136e-01 -6.672310e-01  6.124822e-01   \n",
       "std     4.486245e+00       NaN  3.423043e-03  5.367794e-03  3.131448e-03   \n",
       "min     2.003000e+03       NaN -4.250327e-01 -6.681009e-01  6.116358e-01   \n",
       "25%     2.006000e+03       NaN -4.239793e-01 -6.673972e-01  6.122589e-01   \n",
       "50%     2.010000e+03       NaN -4.237344e-01 -6.672350e-01  6.125680e-01   \n",
       "75%     2.014000e+03       NaN -4.235967e-01 -6.671199e-01  6.126930e-01   \n",
       "max     2.018000e+03       NaN -3.107776e-17 -5.275957e-17  1.000000e+00   \n",
       "\n",
       "            sin_time      cos_time is_violent  \n",
       "count   2.215024e+06  2.215024e+06    2215024  \n",
       "unique           NaN           NaN          2  \n",
       "top              NaN           NaN      False  \n",
       "freq             NaN           NaN    1112863  \n",
       "mean   -2.442137e-01 -6.009038e-02        NaN  \n",
       "std     6.403588e-01  7.257340e-01        NaN  \n",
       "min    -1.000000e+00 -1.000000e+00        NaN  \n",
       "25%    -8.660254e-01 -7.853169e-01        NaN  \n",
       "50%    -3.826834e-01 -1.478094e-01        NaN  \n",
       "75%     2.588190e-01  7.071068e-01        NaN  \n",
       "max     1.000000e+00  9.999905e-01        NaN  "
      ]
     },
     "execution_count": 2,
     "metadata": {},
     "output_type": "execute_result"
    }
   ],
   "source": [
    "path = './engineered_dataset.csv'\n",
    "df = pd.read_csv(path)\n",
    "df.describe(include='all')"
   ]
  },
  {
   "cell_type": "markdown",
   "metadata": {},
   "source": [
    "# Utility Functions\n",
    "Below are a few utility functions that will be used for training each model."
   ]
  },
  {
   "cell_type": "code",
   "execution_count": 3,
   "metadata": {
    "colab": {},
    "colab_type": "code",
    "id": "hfCvhM6ZB-wL"
   },
   "outputs": [],
   "source": [
    "def print_metrics(classifier, X_test, y_test):\n",
    "  '''Prints the various metrics(accuracy, precision, recall, F-Score) of a classifier\n",
    "  '''\n",
    "  accuracy = classifier.score(X_test, y_test)\n",
    "  y_pred = classifier.predict(X_test)\n",
    "\n",
    "  precision = precision_score(\n",
    "      y_true=y_test,\n",
    "      y_pred=y_pred\n",
    "  )\n",
    "\n",
    "  recall = recall_score(\n",
    "      y_true=y_test,\n",
    "      y_pred=y_pred\n",
    "  )\n",
    "\n",
    "  f1 = f1_score(\n",
    "      y_true=y_test,\n",
    "      y_pred=y_pred\n",
    "  )\n",
    "\n",
    "  print('Accuracy: {accuracy}, Precision: {precision}, Recall: {recall}, F score: {f1}'.format(\n",
    "      accuracy=accuracy,\n",
    "      precision=precision,\n",
    "      recall=recall,\n",
    "      f1=f1\n",
    "  ))\n",
    "    \n",
    "def evaluate_parameter(parameter, values, classifier, X_train, y_train, scoring):\n",
    "  '''Helper that evaluates a single parameter over a set of parameters. Grid search is performed\n",
    "  and it returns the the mean test score of each value\n",
    "  '''\n",
    "  grid_search = GridSearchCV(\n",
    "      estimator=classifier,\n",
    "      param_grid={parameter: values},\n",
    "      verbose=10,\n",
    "      n_jobs=-1,\n",
    "      cv=3,\n",
    "      scoring=scoring\n",
    "  )\n",
    "  grid_search.fit(X_train, y_train)\n",
    "  param_values = [param[parameter] for param in grid_search.cv_results_['params']]\n",
    "  result = dict(zip(param_values, grid_search.cv_results_['mean_test_score']))\n",
    "  return {\n",
    "      'scores': result,\n",
    "      'grid_search': grid_search\n",
    "  }\n",
    "\n",
    "def evaluate_parameters(parameters, classifier, X_train, y_train, scoring=None):\n",
    "  '''Evaluates single parameters (i.e. independent to other parameters) over their given\n",
    "  ranges. Then plots the scores vs the parameter values.\n",
    "  '''\n",
    "  param_value_scores = {}\n",
    "  \n",
    "  for key, val in parameters.items():\n",
    "    print(key)\n",
    "    param_value_scores[key] = evaluate_parameter(key, val, classifier, X_train, y_train, scoring)\n",
    "\n",
    "  index = 1\n",
    "  plt.figure(figsize=(20, 15))\n",
    "  for key, val in param_value_scores.items():\n",
    "    plt.subplot(3, 2, index)\n",
    "    plt.title(key)\n",
    "    param_values = list(val['scores'].keys())\n",
    "    scores = list(val['scores'].values())\n",
    "    plt.plot(param_values, scores)\n",
    "    index += 1\n",
    "  plt.show()\n",
    "\n",
    "  return param_value_scores\n"
   ]
  },
  {
   "cell_type": "markdown",
   "metadata": {
    "colab_type": "text",
    "id": "75gb_PRa-RyZ"
   },
   "source": [
    "# Training\n",
    "To ensure relevance to today, we will be taking the more recent data. In our case we will take everything from 2015 and on.\n",
    "\n",
    "Due to the nature of the problem, we would prefer to have a higher Recall over Precision. False positives would not seriously affect someone. This is because it is safer to avoid a place due to a possible danger, rather than go there."
   ]
  },
  {
   "cell_type": "code",
   "execution_count": 4,
   "metadata": {
    "colab": {},
    "colab_type": "code",
    "id": "IB0SGMwaHNcV"
   },
   "outputs": [],
   "source": [
    "final_df = df\n",
    "final_df = final_df[final_df['year'] >= 2015]"
   ]
  },
  {
   "cell_type": "markdown",
   "metadata": {},
   "source": [
    "### Random Forest\n",
    "For the random forest classifier, we will use all the available features to train. `DayOfWeek` will be one hot encoded since it is a categorical variable"
   ]
  },
  {
   "cell_type": "code",
   "execution_count": 5,
   "metadata": {
    "colab": {},
    "colab_type": "code",
    "id": "wQWKPb6D-otb",
    "scrolled": false
   },
   "outputs": [],
   "source": [
    "X = final_df[[\n",
    "  'DayOfWeek',\n",
    "  'year',\n",
    "  'x_cartesian',\n",
    "  'y_cartesian',\n",
    "  'z_cartesian',\n",
    "  'sin_time',\n",
    "  'cos_time',\n",
    "]]\n",
    "\n",
    "\n",
    "X = X.values\n",
    "X = X.tolist()\n",
    "\n",
    "column_transformer = ColumnTransformer(\n",
    "  [(\"OHE\", OneHotEncoder(handle_unknown='ignore'), [0])],\n",
    "  remainder='passthrough'\n",
    ")\n",
    "X = column_transformer.fit_transform(X)\n",
    "\n",
    "y = final_df[['is_violent']].values\n",
    "X_train, X_test, y_train, y_test = train_test_split(\n",
    "  X,\n",
    "  y,\n",
    "  random_state=2\n",
    ")"
   ]
  },
  {
   "cell_type": "markdown",
   "metadata": {},
   "source": [
    "First, we'll train a baseline random forest to compare with our tuned random forest. Below will also print out the metrics that we care about."
   ]
  },
  {
   "cell_type": "code",
   "execution_count": 6,
   "metadata": {},
   "outputs": [
    {
     "name": "stdout",
     "output_type": "stream",
     "text": [
      "Accuracy: 0.6434562505404322, Precision: 0.6805398656281586, Recall: 0.6573533001191689, F score: 0.6687456636844987\n"
     ]
    }
   ],
   "source": [
    "baseline_rf = RandomForestClassifier(n_estimators=10, n_jobs=-1, random_state=0)\n",
    "baseline_rf.fit(X_train, y_train.ravel())\n",
    "\n",
    "print_metrics(\n",
    "    classifier=baseline_rf,\n",
    "    X_test=X_test,\n",
    "    y_test=y_test\n",
    ")"
   ]
  },
  {
   "cell_type": "markdown",
   "metadata": {},
   "source": [
    "Next, we can evaluate a range of parameters to see which we should be performing a grid search over. The reasoning for this is because it is computationally expensive to check large values of each parameter. Instead, we can evaluate each in isolation, then tune the ranges. Note that the ranges have already been tuned to a 'sweet spot'"
   ]
  },
  {
   "cell_type": "code",
   "execution_count": 7,
   "metadata": {
    "colab": {
     "base_uri": "https://localhost:8080/",
     "height": 867
    },
    "colab_type": "code",
    "id": "DlOzMVSK-Thg",
    "outputId": "6dc3e6f5-4558-4436-cb7e-f910224cfffb",
    "scrolled": false
   },
   "outputs": [
    {
     "name": "stdout",
     "output_type": "stream",
     "text": [
      "max_depth\n",
      "Fitting 3 folds for each of 6 candidates, totalling 18 fits\n"
     ]
    },
    {
     "name": "stderr",
     "output_type": "stream",
     "text": [
      "[Parallel(n_jobs=-1)]: Using backend LokyBackend with 4 concurrent workers.\n",
      "[Parallel(n_jobs=-1)]: Done   5 tasks      | elapsed:   13.5s\n",
      "/home/ubuntu/anaconda3/lib/python3.7/site-packages/joblib/externals/loky/process_executor.py:706: UserWarning: A worker stopped while some jobs were given to the executor. This can be caused by a too short worker timeout or by a memory leak.\n",
      "  \"timeout or by a memory leak.\", UserWarning\n",
      "[Parallel(n_jobs=-1)]: Done  10 tasks      | elapsed:   23.4s\n",
      "[Parallel(n_jobs=-1)]: Done  13 out of  18 | elapsed:   32.9s remaining:   12.7s\n",
      "[Parallel(n_jobs=-1)]: Done  15 out of  18 | elapsed:   35.0s remaining:    7.0s\n",
      "[Parallel(n_jobs=-1)]: Done  18 out of  18 | elapsed:   39.2s finished\n"
     ]
    },
    {
     "name": "stdout",
     "output_type": "stream",
     "text": [
      "min_samples_split\n",
      "Fitting 3 folds for each of 3 candidates, totalling 9 fits\n"
     ]
    },
    {
     "name": "stderr",
     "output_type": "stream",
     "text": [
      "[Parallel(n_jobs=-1)]: Using backend LokyBackend with 4 concurrent workers.\n",
      "/home/ubuntu/anaconda3/lib/python3.7/site-packages/joblib/externals/loky/process_executor.py:706: UserWarning: A worker stopped while some jobs were given to the executor. This can be caused by a too short worker timeout or by a memory leak.\n",
      "  \"timeout or by a memory leak.\", UserWarning\n",
      "[Parallel(n_jobs=-1)]: Done   3 out of   9 | elapsed:    9.4s remaining:   18.7s\n",
      "[Parallel(n_jobs=-1)]: Done   4 out of   9 | elapsed:   11.3s remaining:   14.1s\n",
      "[Parallel(n_jobs=-1)]: Done   5 out of   9 | elapsed:   12.5s remaining:   10.0s\n",
      "[Parallel(n_jobs=-1)]: Done   6 out of   9 | elapsed:   15.9s remaining:    7.9s\n",
      "[Parallel(n_jobs=-1)]: Done   7 out of   9 | elapsed:   16.5s remaining:    4.7s\n",
      "[Parallel(n_jobs=-1)]: Done   9 out of   9 | elapsed:   18.6s remaining:    0.0s\n",
      "[Parallel(n_jobs=-1)]: Done   9 out of   9 | elapsed:   18.6s finished\n"
     ]
    },
    {
     "name": "stdout",
     "output_type": "stream",
     "text": [
      "min_samples_leaf\n",
      "Fitting 3 folds for each of 1 candidates, totalling 3 fits\n"
     ]
    },
    {
     "name": "stderr",
     "output_type": "stream",
     "text": [
      "[Parallel(n_jobs=-1)]: Using backend LokyBackend with 4 concurrent workers.\n",
      "[Parallel(n_jobs=-1)]: Done   3 out of   3 | elapsed:    6.2s remaining:    0.0s\n",
      "[Parallel(n_jobs=-1)]: Done   3 out of   3 | elapsed:    6.2s finished\n"
     ]
    },
    {
     "data": {
      "image/png": "[encoded data removed]",
      "text/plain": [
       "<Figure size 1440x1080 with 3 Axes>"
      ]
     },
     "metadata": {
      "needs_background": "light"
     },
     "output_type": "display_data"
    }
   ],
   "source": [
    "parameters = {\n",
    "    'max_depth': np.arange(18, 30, 2),\n",
    "    'min_samples_split': np.arange(30, 45, 5),\n",
    "    'min_samples_leaf': np.arange(11, 13, 2),\n",
    "}\n",
    "\n",
    "ranking = evaluate_parameters(\n",
    "  parameters, \n",
    "  classifier=RandomForestClassifier(n_estimators=10, n_jobs=-1),\n",
    "  X_train=X_train,\n",
    "  y_train=y_train.ravel(),\n",
    "  scoring='recall'\n",
    ")"
   ]
  },
  {
   "cell_type": "markdown",
   "metadata": {},
   "source": [
    "After tuning the parameters dict above, we can finally perform a grid search on our random forest classifier."
   ]
  },
  {
   "cell_type": "code",
   "execution_count": 8,
   "metadata": {},
   "outputs": [
    {
     "name": "stdout",
     "output_type": "stream",
     "text": [
      "Fitting 3 folds for each of 18 candidates, totalling 54 fits\n"
     ]
    },
    {
     "name": "stderr",
     "output_type": "stream",
     "text": [
      "[Parallel(n_jobs=-1)]: Using backend LokyBackend with 4 concurrent workers.\n",
      "/home/ubuntu/anaconda3/lib/python3.7/site-packages/joblib/externals/loky/process_executor.py:706: UserWarning: A worker stopped while some jobs were given to the executor. This can be caused by a too short worker timeout or by a memory leak.\n",
      "  \"timeout or by a memory leak.\", UserWarning\n",
      "[Parallel(n_jobs=-1)]: Done   5 tasks      | elapsed:   11.9s\n",
      "[Parallel(n_jobs=-1)]: Done  10 tasks      | elapsed:   21.2s\n",
      "[Parallel(n_jobs=-1)]: Done  17 tasks      | elapsed:   33.7s\n",
      "[Parallel(n_jobs=-1)]: Done  24 tasks      | elapsed:   46.3s\n",
      "[Parallel(n_jobs=-1)]: Done  33 tasks      | elapsed:  1.0min\n",
      "[Parallel(n_jobs=-1)]: Done  42 tasks      | elapsed:  1.3min\n",
      "[Parallel(n_jobs=-1)]: Done  54 out of  54 | elapsed:  1.7min finished\n"
     ]
    },
    {
     "name": "stdout",
     "output_type": "stream",
     "text": [
      "Accuracy: 0.6421749349516166, Precision: 0.6523160831744669, Recall: 0.7418340536116814, F score: 0.6942011071102273\n"
     ]
    }
   ],
   "source": [
    "grid_search = GridSearchCV(\n",
    "    estimator=RandomForestClassifier(n_estimators=10, n_jobs=-1, verbose=0, random_state=1),\n",
    "    param_grid=parameters,\n",
    "    verbose=10,\n",
    "    n_jobs=-1,\n",
    "    cv=3,\n",
    "    scoring='recall'\n",
    ")\n",
    "grid_search.fit(X_train, y_train.ravel())\n",
    "best_estimator = grid_search.best_estimator_\n",
    "\n",
    "print_metrics(\n",
    "    classifier=best_estimator,\n",
    "    X_test=X_test,\n",
    "    y_test=y_test\n",
    ")"
   ]
  },
  {
   "cell_type": "markdown",
   "metadata": {},
   "source": [
    "Since this results in the best Recall and F score (overall), we decided to use this model for our application. As will be seen with the other models, some have higher Recall scores, however, we decided on this because of its overall score on the various metrics.\n",
    "\n",
    "We can dump the model and the transformer for later use in our application."
   ]
  },
  {
   "cell_type": "code",
   "execution_count": 9,
   "metadata": {},
   "outputs": [
    {
     "data": {
      "text/plain": [
       "['column_transformer.joblib']"
      ]
     },
     "execution_count": 9,
     "metadata": {},
     "output_type": "execute_result"
    }
   ],
   "source": [
    "dump(best_estimator, 'best_estimator.joblib')\n",
    "dump(column_transformer, 'column_transformer.joblib')"
   ]
  },
  {
   "cell_type": "markdown",
   "metadata": {},
   "source": [
    "## KNN\n",
    "\n",
    "Since `DayOfWeek` is the only categorical feature, we will leave it out from the training data. This is because we would need to find a good distance function for the categorical feature, however we have numerical features as well. Hence, that would not work.\n",
    "\n",
    "We will need to do a min-max scaling on our features due to KNN using distance when training and predicting."
   ]
  },
  {
   "cell_type": "code",
   "execution_count": 10,
   "metadata": {
    "colab": {},
    "colab_type": "code",
    "id": "VX3ZpMr2B-wa"
   },
   "outputs": [],
   "source": [
    "X = final_df[[\n",
    "  'year',\n",
    "  'x_cartesian',\n",
    "  'y_cartesian',\n",
    "  'sin_time',\n",
    "  'cos_time',\n",
    "]]\n",
    "\n",
    "X = X.values\n",
    "y = final_df[['is_violent']].values\n",
    "\n",
    "scaler = MinMaxScaler()\n",
    "X = scaler.fit_transform(X)\n",
    "\n",
    "X_train, X_test, y_train, y_test = train_test_split(X, y)"
   ]
  },
  {
   "cell_type": "markdown",
   "metadata": {},
   "source": [
    "We will train a baseline KNN to compare with a tuned KNN"
   ]
  },
  {
   "cell_type": "code",
   "execution_count": 11,
   "metadata": {
    "colab": {
     "base_uri": "https://localhost:8080/",
     "height": 88
    },
    "colab_type": "code",
    "id": "MSuoqkyFB-wf",
    "outputId": "5b7188e2-f412-49f2-d585-a87978c53289"
   },
   "outputs": [
    {
     "name": "stderr",
     "output_type": "stream",
     "text": [
      "/home/ubuntu/anaconda3/lib/python3.7/site-packages/ipykernel_launcher.py:3: DataConversionWarning: A column-vector y was passed when a 1d array was expected. Please change the shape of y to (n_samples, ), for example using ravel().\n",
      "  This is separate from the ipykernel package so we can avoid doing imports until\n"
     ]
    },
    {
     "name": "stdout",
     "output_type": "stream",
     "text": [
      "Accuracy: 0.6086877913420798, Precision: 0.6372099409583962, Recall: 0.6651950806983344, F score: 0.6509018485792027\n"
     ]
    }
   ],
   "source": [
    "# Baseline KNN\n",
    "baseline_KNN = KNeighborsClassifier(n_jobs=-1)\n",
    "baseline_KNN.fit(X_train, y_train)\n",
    "\n",
    "print_metrics(\n",
    "    classifier=baseline_KNN,\n",
    "    X_test=X_test,\n",
    "    y_test=y_test.ravel()\n",
    ")"
   ]
  },
  {
   "cell_type": "markdown",
   "metadata": {},
   "source": [
    "Next, we can evaluate each parameter independently"
   ]
  },
  {
   "cell_type": "code",
   "execution_count": 12,
   "metadata": {},
   "outputs": [
    {
     "name": "stdout",
     "output_type": "stream",
     "text": [
      "n_neighbors\n",
      "Fitting 3 folds for each of 5 candidates, totalling 15 fits\n"
     ]
    },
    {
     "name": "stderr",
     "output_type": "stream",
     "text": [
      "[Parallel(n_jobs=-1)]: Using backend LokyBackend with 4 concurrent workers.\n",
      "/home/ubuntu/anaconda3/lib/python3.7/site-packages/joblib/externals/loky/process_executor.py:706: UserWarning: A worker stopped while some jobs were given to the executor. This can be caused by a too short worker timeout or by a memory leak.\n",
      "  \"timeout or by a memory leak.\", UserWarning\n",
      "[Parallel(n_jobs=-1)]: Done   5 tasks      | elapsed:   48.9s\n",
      "[Parallel(n_jobs=-1)]: Done  10 out of  15 | elapsed:  1.2min remaining:   37.4s\n",
      "[Parallel(n_jobs=-1)]: Done  12 out of  15 | elapsed:  1.3min remaining:   19.2s\n",
      "[Parallel(n_jobs=-1)]: Done  15 out of  15 | elapsed:  1.6min finished\n"
     ]
    },
    {
     "name": "stdout",
     "output_type": "stream",
     "text": [
      "weights\n",
      "Fitting 3 folds for each of 2 candidates, totalling 6 fits\n"
     ]
    },
    {
     "name": "stderr",
     "output_type": "stream",
     "text": [
      "[Parallel(n_jobs=-1)]: Using backend LokyBackend with 4 concurrent workers.\n",
      "[Parallel(n_jobs=-1)]: Done   2 out of   6 | elapsed:   23.6s remaining:   47.1s\n",
      "[Parallel(n_jobs=-1)]: Done   3 out of   6 | elapsed:   23.8s remaining:   23.8s\n",
      "[Parallel(n_jobs=-1)]: Done   4 out of   6 | elapsed:   25.4s remaining:   12.7s\n",
      "[Parallel(n_jobs=-1)]: Done   6 out of   6 | elapsed:   34.2s remaining:    0.0s\n",
      "[Parallel(n_jobs=-1)]: Done   6 out of   6 | elapsed:   34.2s finished\n"
     ]
    },
    {
     "name": "stdout",
     "output_type": "stream",
     "text": [
      "p\n",
      "Fitting 3 folds for each of 2 candidates, totalling 6 fits\n"
     ]
    },
    {
     "name": "stderr",
     "output_type": "stream",
     "text": [
      "[Parallel(n_jobs=-1)]: Using backend LokyBackend with 4 concurrent workers.\n",
      "[Parallel(n_jobs=-1)]: Done   2 out of   6 | elapsed:   24.8s remaining:   49.6s\n",
      "[Parallel(n_jobs=-1)]: Done   3 out of   6 | elapsed:   24.8s remaining:   24.8s\n",
      "[Parallel(n_jobs=-1)]: Done   4 out of   6 | elapsed:   24.9s remaining:   12.5s\n",
      "[Parallel(n_jobs=-1)]: Done   6 out of   6 | elapsed:   37.2s remaining:    0.0s\n",
      "[Parallel(n_jobs=-1)]: Done   6 out of   6 | elapsed:   37.2s finished\n"
     ]
    },
    {
     "data": {
      "image/png": "[encoded data removed]",
      "text/plain": [
       "<Figure size 1440x1080 with 3 Axes>"
      ]
     },
     "metadata": {
      "needs_background": "light"
     },
     "output_type": "display_data"
    }
   ],
   "source": [
    "parameters = {\n",
    "  'n_neighbors': np.arange(6, 21, 3),\n",
    "  'weights': [\n",
    "    'uniform',\n",
    "    'distance'\n",
    "  ],\n",
    "  'p': [1, 2]\n",
    "}\n",
    "\n",
    "ranking = evaluate_parameters(\n",
    "    parameters, \n",
    "    classifier=KNeighborsClassifier(n_jobs=-1),\n",
    "    X_train=X_train,\n",
    "    y_train=y_train.ravel()\n",
    ")"
   ]
  },
  {
   "cell_type": "code",
   "execution_count": 13,
   "metadata": {},
   "outputs": [
    {
     "name": "stdout",
     "output_type": "stream",
     "text": [
      "Fitting 3 folds for each of 2 candidates, totalling 6 fits\n"
     ]
    },
    {
     "name": "stderr",
     "output_type": "stream",
     "text": [
      "[Parallel(n_jobs=-1)]: Using backend LokyBackend with 4 concurrent workers.\n",
      "[Parallel(n_jobs=-1)]: Done   2 out of   6 | elapsed:   21.6s remaining:   43.2s\n",
      "[Parallel(n_jobs=-1)]: Done   3 out of   6 | elapsed:   21.6s remaining:   21.6s\n",
      "[Parallel(n_jobs=-1)]: Done   4 out of   6 | elapsed:   22.2s remaining:   11.1s\n",
      "[Parallel(n_jobs=-1)]: Done   6 out of   6 | elapsed:   33.2s remaining:    0.0s\n",
      "[Parallel(n_jobs=-1)]: Done   6 out of   6 | elapsed:   33.2s finished\n"
     ]
    },
    {
     "name": "stdout",
     "output_type": "stream",
     "text": [
      "Accuracy: 0.6436763538317625, Precision: 0.6795016821166757, Recall: 0.6629733681162744, F score: 0.6711357782856314\n"
     ]
    }
   ],
   "source": [
    "parameters = {\n",
    "  'n_neighbors': np.arange(6, 12, 3),\n",
    "  'weights': ['distance'],\n",
    "  'p': [1]\n",
    "}\n",
    "\n",
    "grid_search = GridSearchCV(\n",
    "    estimator=KNeighborsClassifier(n_jobs=-1),\n",
    "    param_grid=parameters,\n",
    "    verbose=10,\n",
    "    n_jobs=-1,\n",
    "    cv=3,\n",
    "    scoring='recall'\n",
    ")\n",
    "grid_search.fit(X_train, y_train.ravel())\n",
    "best_estimator = grid_search.best_estimator_\n",
    "\n",
    "print_metrics(\n",
    "    classifier=best_estimator,\n",
    "    X_test=X_test,\n",
    "    y_test=y_test\n",
    ")"
   ]
  },
  {
   "cell_type": "markdown",
   "metadata": {},
   "source": [
    "## Naive Bayes\n",
    "\n",
    "We will be training a Gaussian NB classifier because most of the features we have are numerical."
   ]
  },
  {
   "cell_type": "code",
   "execution_count": 14,
   "metadata": {
    "colab": {},
    "colab_type": "code",
    "id": "NhVNy9bGJpxg"
   },
   "outputs": [],
   "source": [
    "X = final_df[[\n",
    "  'DayOfWeek',\n",
    "  'x_cartesian',\n",
    "  'y_cartesian',\n",
    "  'sin_time',\n",
    "  'cos_time',\n",
    "]]\n",
    "\n",
    "X = pd.get_dummies(X)\n",
    "\n",
    "X = X.values\n",
    "y = final_df[['is_violent']].values\n",
    "X_train, X_test, y_train, y_test = train_test_split(X, y)"
   ]
  },
  {
   "cell_type": "markdown",
   "metadata": {},
   "source": [
    "Below is a trained NB classifier"
   ]
  },
  {
   "cell_type": "code",
   "execution_count": 15,
   "metadata": {
    "colab": {
     "base_uri": "https://localhost:8080/",
     "height": 34
    },
    "colab_type": "code",
    "id": "Crv_dtt-B-wh",
    "outputId": "79c64c50-e3b9-447d-dd89-6f5dd4ec484e"
   },
   "outputs": [
    {
     "name": "stdout",
     "output_type": "stream",
     "text": [
      "Accuracy: 0.5622224143758893, Precision: 0.5828121326122737, Recall: 0.7104429699479786, F score: 0.640329632715272\n"
     ]
    }
   ],
   "source": [
    "nb_classifier = GaussianNB()\n",
    "nb_classifier.fit(X_train, y_train.ravel())\n",
    "\n",
    "print_metrics(\n",
    "    classifier=nb_classifier,\n",
    "    X_test=X_test,\n",
    "    y_test=y_test\n",
    ")"
   ]
  },
  {
   "cell_type": "markdown",
   "metadata": {},
   "source": [
    "## Linear SVM\n",
    "\n",
    "Lastly, we'll look look into a linear SVM. We will use all the features and scale them using min-max scaling due to the nature of SVMs.\n",
    "\n",
    "Unfortunately, we weren't able to use a kernel SVM due to the size of our dataset. We attempted to train an SVM with an RBF kernel, however it took too long for us to tune it in a timely fashion."
   ]
  },
  {
   "cell_type": "code",
   "execution_count": 16,
   "metadata": {
    "colab": {},
    "colab_type": "code",
    "id": "UXV2XH8YB-wq"
   },
   "outputs": [],
   "source": [
    "X = final_df[[\n",
    "  'year',\n",
    "  'DayOfWeek',\n",
    "  'x_cartesian',\n",
    "  'y_cartesian',\n",
    "  'sin_time',\n",
    "  'cos_time',\n",
    "]]\n",
    "\n",
    "X = pd.get_dummies(X)\n",
    "X = X.values\n",
    "y = final_df[['is_violent']].values\n",
    "\n",
    "scaler = MinMaxScaler()\n",
    "X = scaler.fit_transform(X)\n",
    "\n",
    "X_train, X_test, y_train, y_test = train_test_split(X, y, random_state=0)"
   ]
  },
  {
   "cell_type": "markdown",
   "metadata": {},
   "source": [
    "We'll train a baseline linear SVM for comparison."
   ]
  },
  {
   "cell_type": "code",
   "execution_count": 17,
   "metadata": {
    "colab": {},
    "colab_type": "code",
    "id": "4VcA9hpZB-wv"
   },
   "outputs": [
    {
     "name": "stderr",
     "output_type": "stream",
     "text": [
      "/home/ubuntu/anaconda3/lib/python3.7/site-packages/sklearn/utils/validation.py:724: DataConversionWarning: A column-vector y was passed when a 1d array was expected. Please change the shape of y to (n_samples, ), for example using ravel().\n",
      "  y = column_or_1d(y, warn=True)\n"
     ]
    },
    {
     "name": "stdout",
     "output_type": "stream",
     "text": [
      "Accuracy: 0.5674262850494839, Precision: 0.5785604834820998, Recall: 0.7747374160592321, F score: 0.6624298377449928\n"
     ]
    }
   ],
   "source": [
    "# Baseline\n",
    "\n",
    "linear_SVM = LinearSVC(C=0.025, dual=False, random_state=0)\n",
    "linear_SVM.fit(X_train, y_train)\n",
    "\n",
    "print_metrics(\n",
    "    classifier=linear_SVM,\n",
    "    X_test=X_test,\n",
    "    y_test=y_test\n",
    ")"
   ]
  },
  {
   "cell_type": "markdown",
   "metadata": {},
   "source": [
    "Next, we'll evaluate a set of parameters with different values: `C` and `tol`"
   ]
  },
  {
   "cell_type": "code",
   "execution_count": 18,
   "metadata": {},
   "outputs": [
    {
     "name": "stdout",
     "output_type": "stream",
     "text": [
      "C\n",
      "Fitting 3 folds for each of 3 candidates, totalling 9 fits\n"
     ]
    },
    {
     "name": "stderr",
     "output_type": "stream",
     "text": [
      "[Parallel(n_jobs=-1)]: Using backend LokyBackend with 4 concurrent workers.\n",
      "[Parallel(n_jobs=-1)]: Done   3 out of   9 | elapsed:    0.7s remaining:    1.3s\n",
      "/home/ubuntu/anaconda3/lib/python3.7/site-packages/joblib/externals/loky/process_executor.py:706: UserWarning: A worker stopped while some jobs were given to the executor. This can be caused by a too short worker timeout or by a memory leak.\n",
      "  \"timeout or by a memory leak.\", UserWarning\n",
      "[Parallel(n_jobs=-1)]: Done   4 out of   9 | elapsed:    0.9s remaining:    1.1s\n",
      "[Parallel(n_jobs=-1)]: Done   5 out of   9 | elapsed:    1.2s remaining:    1.0s\n",
      "[Parallel(n_jobs=-1)]: Done   6 out of   9 | elapsed:    1.2s remaining:    0.6s\n",
      "[Parallel(n_jobs=-1)]: Done   7 out of   9 | elapsed:    1.7s remaining:    0.5s\n",
      "[Parallel(n_jobs=-1)]: Done   9 out of   9 | elapsed:    2.2s remaining:    0.0s\n",
      "[Parallel(n_jobs=-1)]: Done   9 out of   9 | elapsed:    2.2s finished\n"
     ]
    },
    {
     "name": "stdout",
     "output_type": "stream",
     "text": [
      "penalty\n",
      "Fitting 3 folds for each of 2 candidates, totalling 6 fits\n"
     ]
    },
    {
     "name": "stderr",
     "output_type": "stream",
     "text": [
      "[Parallel(n_jobs=-1)]: Using backend LokyBackend with 4 concurrent workers.\n",
      "[Parallel(n_jobs=-1)]: Done   2 out of   6 | elapsed:    1.5s remaining:    3.1s\n",
      "[Parallel(n_jobs=-1)]: Done   3 out of   6 | elapsed:    2.3s remaining:    2.3s\n",
      "[Parallel(n_jobs=-1)]: Done   4 out of   6 | elapsed:    8.3s remaining:    4.1s\n",
      "[Parallel(n_jobs=-1)]: Done   6 out of   6 | elapsed:   10.2s remaining:    0.0s\n",
      "[Parallel(n_jobs=-1)]: Done   6 out of   6 | elapsed:   10.2s finished\n"
     ]
    },
    {
     "name": "stdout",
     "output_type": "stream",
     "text": [
      "tol\n",
      "Fitting 3 folds for each of 8 candidates, totalling 24 fits\n"
     ]
    },
    {
     "name": "stderr",
     "output_type": "stream",
     "text": [
      "[Parallel(n_jobs=-1)]: Using backend LokyBackend with 4 concurrent workers.\n",
      "[Parallel(n_jobs=-1)]: Done   5 tasks      | elapsed:    2.0s\n",
      "[Parallel(n_jobs=-1)]: Done  10 tasks      | elapsed:    3.0s\n",
      "[Parallel(n_jobs=-1)]: Done  17 tasks      | elapsed:    4.4s\n",
      "[Parallel(n_jobs=-1)]: Done  20 out of  24 | elapsed:    4.8s remaining:    1.0s\n",
      "[Parallel(n_jobs=-1)]: Done  24 out of  24 | elapsed:    5.1s finished\n"
     ]
    },
    {
     "data": {
      "image/png": "[encoded data removed]",
      "text/plain": [
       "<Figure size 1440x1080 with 3 Axes>"
      ]
     },
     "metadata": {
      "needs_background": "light"
     },
     "output_type": "display_data"
    }
   ],
   "source": [
    "parameters = {\n",
    "  'C': [\n",
    "    1e-4,\n",
    "    1e-3,\n",
    "    1e-2\n",
    "  ],\n",
    "  'penalty': [\n",
    "    'l1',\n",
    "    'l2'\n",
    "  ],\n",
    "  'tol': [\n",
    "    1e-8,\n",
    "    1e-7,\n",
    "    1e-6,\n",
    "    1e-5,\n",
    "    1e-4,\n",
    "    1e-3,\n",
    "    1e-2,\n",
    "    1e-1\n",
    "  ]\n",
    "}\n",
    "\n",
    "ranking = evaluate_parameters(\n",
    "    parameters, \n",
    "    classifier=LinearSVC(dual=False),\n",
    "    X_train=X_train,\n",
    "    y_train=y_train.ravel()\n",
    ")"
   ]
  },
  {
   "cell_type": "markdown",
   "metadata": {},
   "source": [
    "Using the plots above we can fine-tune the parameter values, then perform the grid search"
   ]
  },
  {
   "cell_type": "code",
   "execution_count": 19,
   "metadata": {},
   "outputs": [
    {
     "name": "stdout",
     "output_type": "stream",
     "text": [
      "Fitting 3 folds for each of 42 candidates, totalling 126 fits\n"
     ]
    },
    {
     "name": "stderr",
     "output_type": "stream",
     "text": [
      "[Parallel(n_jobs=-1)]: Using backend LokyBackend with 4 concurrent workers.\n",
      "[Parallel(n_jobs=-1)]: Done   5 tasks      | elapsed:    0.8s\n",
      "[Parallel(n_jobs=-1)]: Done  10 tasks      | elapsed:    1.6s\n",
      "[Parallel(n_jobs=-1)]: Done  17 tasks      | elapsed:    2.3s\n",
      "[Parallel(n_jobs=-1)]: Done  24 tasks      | elapsed:    3.4s\n",
      "[Parallel(n_jobs=-1)]: Done  33 tasks      | elapsed:    4.9s\n",
      "[Parallel(n_jobs=-1)]: Done  42 tasks      | elapsed:    6.2s\n",
      "[Parallel(n_jobs=-1)]: Done  53 tasks      | elapsed:   28.7s\n",
      "[Parallel(n_jobs=-1)]: Done  64 tasks      | elapsed:   34.9s\n",
      "[Parallel(n_jobs=-1)]: Done  77 tasks      | elapsed:   37.5s\n",
      "[Parallel(n_jobs=-1)]: Done  90 tasks      | elapsed:   59.7s\n",
      "[Parallel(n_jobs=-1)]: Done 105 tasks      | elapsed:  1.4min\n",
      "[Parallel(n_jobs=-1)]: Done 126 out of 126 | elapsed:  1.4min finished\n",
      "/home/ubuntu/anaconda3/lib/python3.7/site-packages/sklearn/utils/validation.py:724: DataConversionWarning: A column-vector y was passed when a 1d array was expected. Please change the shape of y to (n_samples, ), for example using ravel().\n",
      "  y = column_or_1d(y, warn=True)\n"
     ]
    },
    {
     "name": "stdout",
     "output_type": "stream",
     "text": [
      "Accuracy: 0.5532217619268471, Precision: 0.5548651416865824, Recall: 0.9327899902427825, F score: 0.6958234324492112\n"
     ]
    }
   ],
   "source": [
    "parameters = {\n",
    "  'C': [\n",
    "    1e-4,\n",
    "    1e-3,\n",
    "    1e-2\n",
    "  ],\n",
    "  'penalty': [\n",
    "    'l1',\n",
    "    'l2'\n",
    "  ],\n",
    "  'tol': [\n",
    "    1e-8,\n",
    "    1e-7,\n",
    "    1e-6,\n",
    "    1e-5,\n",
    "    1e-4,\n",
    "    1e-3,\n",
    "    1e-2,\n",
    "  ]\n",
    "}\n",
    "\n",
    "grid_search = GridSearchCV(\n",
    "    estimator=LinearSVC(dual=False),\n",
    "    param_grid=parameters,\n",
    "    verbose=10,\n",
    "    n_jobs=-1,\n",
    "    cv=3,\n",
    "    scoring='recall'\n",
    ")\n",
    "grid_search.fit(X_train, y_train)\n",
    "best_estimator = grid_search.best_estimator_\n",
    "\n",
    "print_metrics(\n",
    "    classifier=best_estimator,\n",
    "    X_test=X_test,\n",
    "    y_test=y_test\n",
    ")"
   ]
  },
  {
   "cell_type": "markdown",
   "metadata": {},
   "source": [
    "As can be seen above, the Recall for this model is 92%. However, a problem with this model is the very low precision. It is just above 50%, which shows that its precision is similar to that of a random/dumb classifier."
   ]
  }
 ],
 "metadata": {
  "accelerator": "GPU",
  "colab": {
   "collapsed_sections": [
    "SeU0zP7yrcxP",
    "gVpE7dMwruA1"
   ],
   "name": "SFPD_Incidents_Reports_Data_Set_Analysis - Training.ipynb",
   "provenance": []
  },
  "kernelspec": {
   "display_name": "Python 3",
   "language": "python",
   "name": "python3"
  },
  "language_info": {
   "codemirror_mode": {
    "name": "ipython",
    "version": 3
   },
   "file_extension": ".py",
   "mimetype": "text/x-python",
   "name": "python",
   "nbconvert_exporter": "python",
   "pygments_lexer": "ipython3",
   "version": "3.7.4"
  }
 },
 "nbformat": 4,
 "nbformat_minor": 1
}
